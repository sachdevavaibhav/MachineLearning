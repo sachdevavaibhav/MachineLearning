{
 "cells": [
  {
   "cell_type": "code",
   "execution_count": 1,
   "id": "6b8d1afb",
   "metadata": {},
   "outputs": [],
   "source": [
    "import pandas as pd\n",
    "import numpy as np\n",
    "import matplotlib.pyplot as plt\n",
    "\n",
    "mu = []\n",
    "std = []"
   ]
  },
  {
   "cell_type": "code",
   "execution_count": 2,
   "id": "517e3c34",
   "metadata": {},
   "outputs": [],
   "source": [
    "def load_data(filename):\n",
    "    df = pd.read_csv(filename ,sep=',',index_col=False)\n",
    "    df.columns = [\"housesize\", \"rooms\", \"price\"]\n",
    "    data = np.array(df, dtype=float)\n",
    "    plot_data(data[:, 0], data[:, 2])\n",
    "    data = normalize_data(data)\n",
    "    features = data[:, :2]\n",
    "    label = data[:, -1]\n",
    "    return features, label"
   ]
  },
  {
   "cell_type": "code",
   "execution_count": 3,
   "id": "a70b0f5e",
   "metadata": {},
   "outputs": [],
   "source": [
    "def plot_data(x, y):\n",
    "    plt.xlabel('house size')     \n",
    "    plt.ylabel('price')\n",
    "    plt.plot(x, y, 'bo')\n",
    "    plt.show() \n",
    "\n",
    "def normalize_data(data):\n",
    "    cols = data.shape[1]\n",
    "    for i in range(cols-1):\n",
    "        mu.append(np.mean(data[:,i]))\n",
    "        std.append(np.std(data[:, i]))\n",
    "        mean = np.mean(data[:, i])\n",
    "        std_dev = np.std(data[:, i])\n",
    "        data[:, i] = (data[:, i] - mean)/(std_dev)\n",
    "    return data"
   ]
  },
  {
   "cell_type": "code",
   "execution_count": 4,
   "id": "931e7081",
   "metadata": {},
   "outputs": [],
   "source": [
    "def hypothesis(X, T): # X = Feature Matrix and T = Theta(parameter) Matrix\n",
    "    return np.matmul(X, T)"
   ]
  },
  {
   "cell_type": "code",
   "execution_count": 5,
   "id": "4b2a3923",
   "metadata": {},
   "outputs": [],
   "source": [
    "def cost_function(X, T, Y):\n",
    "    H_X = hypothesis(X, T)\n",
    "    m = X.shape[0]\n",
    "    result = np.matmul((H_X-Y).T, (H_X-Y))\n",
    "    result = (result)/(2*m)\n",
    "    return result"
   ]
  },
  {
   "cell_type": "code",
   "execution_count": 6,
   "id": "a1bd17eb",
   "metadata": {},
   "outputs": [],
   "source": [
    "def gradient_descent(X, Y, Th, learning_rate=0.1, epochs=10):\n",
    "    m = X.shape[0]\n",
    "    J_all = []\n",
    "    for i in range(epochs):\n",
    "        H_X = hypothesis(X, Th)\n",
    "        cost_ = (np.matmul((H_X-Y).T, X))*(1/m)\n",
    "#         print(cost_.shape)\n",
    "#         print(\"Before\", Th)\n",
    "        Th = Th - (learning_rate)*cost_.T\n",
    "#         print(\"Inside:\", cost_)\n",
    "        J_all.append(cost_function(X, Th, Y))\n",
    "    return Th, J_all"
   ]
  },
  {
   "cell_type": "code",
   "execution_count": 16,
   "id": "29d7b985",
   "metadata": {
    "scrolled": true
   },
   "outputs": [
    {
     "data": {
      "image/png": "[encoded data removed]",
      "text/plain": [
       "<Figure size 432x288 with 1 Axes>"
      ]
     },
     "metadata": {
      "needs_background": "light"
     },
     "output_type": "display_data"
    },
    {
     "name": "stdout",
     "output_type": "stream",
     "text": [
      "(46,)\n",
      "(46,)\n",
      "Cost:  [[2.08475311e+09]]\n",
      "Parameters:  [[ 3.37371711e+05]\n",
      " [ 1.04066024e+05]\n",
      " [-6.47874139e+01]]\n"
     ]
    },
    {
     "data": {
      "image/png": "[encoded data removed]",
      "text/plain": [
       "<Figure size 432x288 with 1 Axes>"
      ]
     },
     "metadata": {
      "needs_background": "light"
     },
     "output_type": "display_data"
    }
   ],
   "source": [
    "X, Y = load_data('./house_price_data.txt')\n",
    "Y = np.reshape(Y, (46,1))\n",
    "X = np.hstack((np.ones((X.shape[0],1)), X))\n",
    "print(X[:,1].shape)\n",
    "print(Y[:,0].shape)\n",
    "theta = np.zeros((X.shape[1], 1))\n",
    "learning_rate = 0.1\n",
    "num_epochs = 50\n",
    "theta,J_all = gradient_descent(X, Y, theta, learning_rate, num_epochs)\n",
    "J = cost_function(X, theta, Y)\n",
    "print(\"Cost: \", J)\n",
    "print(\"Parameters: \", theta)\n",
    "# print(J_all)\n",
    "# Lubear Regression Line \n",
    "plt.xlabel('house size')     \n",
    "plt.ylabel('price')\n",
    "plt.plot(X[:,1], Y[:,0], 'bo')\n",
    "mean = np.mean(X[:,1])\n",
    "std_devH = np.std(X[:,1])\n",
    "X[:,1] = (X[:,1]-mean)/(std_devH)\n",
    "plt.plot(X[:,1],(X[:,1]*theta[1]+theta[0]),'-r')\n",
    "plt.show()"
   ]
  },
  {
   "cell_type": "code",
   "execution_count": 8,
   "id": "a7b16ea8",
   "metadata": {},
   "outputs": [],
   "source": [
    "# Cost:  [[2.06669066e+09]]\n",
    "# Parameters:  [[339110.44903458]\n",
    "#  [109594.77707842]\n",
    "#  [ -5572.08655189]]"
   ]
  },
  {
   "cell_type": "code",
   "execution_count": 9,
   "id": "b4d261ed",
   "metadata": {},
   "outputs": [],
   "source": [
    "def plot_cost(J_all, num_epochs):\n",
    "\tplt.xlabel('Epochs')\n",
    "\tplt.ylabel('Cost')\n",
    "\tplt.plot(num_epochs, J_all, 'm', linewidth = \"5\")\n",
    "\tplt.show()\n",
    "    \n",
    "def test(theta, x):\n",
    "\tx[0] = (x[0] - mu[0])/std[0]\n",
    "\tx[1] = (x[1] - mu[1])/std[1]\n",
    "\ty = theta[0] + theta[1]*x[0] + theta[2]*x[1]\n",
    "\tprint(\"Price of house: \", y)"
   ]
  },
  {
   "cell_type": "code",
   "execution_count": 10,
   "id": "998bb443",
   "metadata": {},
   "outputs": [
    {
     "data": {
      "image/png": "[encoded data removed]",
      "text/plain": [
       "<Figure size 432x288 with 1 Axes>"
      ]
     },
     "metadata": {
      "needs_background": "light"
     },
     "output_type": "display_data"
    },
    {
     "name": "stdout",
     "output_type": "stream",
     "text": [
      "Price of house:  [285201.81900083]\n"
     ]
    }
   ],
   "source": [
    "n_epochs = []\n",
    "jplot = []\n",
    "count = 0\n",
    "for i in J_all:\n",
    "\tjplot.append(i[0][0])\n",
    "\tn_epochs.append(count)\n",
    "\tcount += 1\n",
    "jplot = np.array(jplot)\n",
    "n_epochs = np.array(n_epochs)\n",
    "plot_cost(jplot, n_epochs)\n",
    "\n",
    "# test(theta, [1600, 3])\n",
    "test(theta, [1600, 3]) #285427.44655119"
   ]
  },
  {
   "cell_type": "code",
   "execution_count": null,
   "id": "a51a9a78",
   "metadata": {},
   "outputs": [],
   "source": []
  }
 ],
 "metadata": {
  "kernelspec": {
   "display_name": "Python 3 (ipykernel)",
   "language": "python",
   "name": "python3"
  },
  "language_info": {
   "codemirror_mode": {
    "name": "ipython",
    "version": 3
   },
   "file_extension": ".py",
   "mimetype": "text/x-python",
   "name": "python",
   "nbconvert_exporter": "python",
   "pygments_lexer": "ipython3",
   "version": "3.9.12"
  },
  "vscode": {
   "interpreter": {
    "hash": "369f2c481f4da34e4445cda3fffd2e751bd1c4d706f27375911949ba6bb62e1c"
   }
  }
 },
 "nbformat": 4,
 "nbformat_minor": 5
}
