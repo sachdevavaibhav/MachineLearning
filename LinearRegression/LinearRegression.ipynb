{
 "cells": [
  {
   "cell_type": "code",
   "execution_count": 1,
   "id": "6b8d1afb",
   "metadata": {},
   "outputs": [],
   "source": [
    "import pandas as pd\n",
    "import numpy as np\n",
    "import matplotlib.pyplot as plt\n",
    "\n",
    "mu = []\n",
    "std = []"
   ]
  },
  {
   "cell_type": "code",
   "execution_count": 2,
   "id": "517e3c34",
   "metadata": {},
   "outputs": [],
   "source": [
    "def load_data(filename):\n",
    "    df = pd.read_csv(filename ,sep=',',index_col=False)\n",
    "    df.columns = [\"housesize\", \"rooms\", \"price\"]\n",
    "    data = np.array(df, dtype=float)\n",
    "    plot_data(data[:, 0], data[:, 2])\n",
    "    data = normalize_data(data)\n",
    "    features = data[:, :2]\n",
    "    label = data[:, -1]\n",
    "    return features, label"
   ]
  },
  {
   "cell_type": "code",
   "execution_count": 3,
   "id": "a70b0f5e",
   "metadata": {},
   "outputs": [],
   "source": [
    "def plot_data(x, y):\n",
    "    plt.xlabel('house size')     \n",
    "    plt.ylabel('price')\n",
    "    plt.plot(x, y, 'bo')\n",
    "    plt.show() \n",
    "\n",
    "def normalize_data(data):\n",
    "    cols = data.shape[1]\n",
    "    for i in range(cols-1):\n",
    "        mu.append(np.mean(data[:,i]))\n",
    "        std.append(np.std(data[:, i]))\n",
    "        mean = np.mean(data[:, i])\n",
    "        std_dev = np.std(data[:, i])\n",
    "        data[:, i] = (data[:, i] - mean)/(std_dev)\n",
    "    return data"
   ]
  },
  {
   "cell_type": "code",
   "execution_count": 4,
   "id": "931e7081",
   "metadata": {},
   "outputs": [],
   "source": [
    "def hypothesis(X, T): # X = Feature Matrix and T = Theta(parameter) Matrix\n",
    "    return np.matmul(X, T)"
   ]
  },
  {
   "cell_type": "code",
   "execution_count": 5,
   "id": "4b2a3923",
   "metadata": {},
   "outputs": [],
   "source": [
    "def cost_function(X, T, Y):\n",
    "    H_X = hypothesis(X, T)\n",
    "    m = X.shape[0]\n",
    "    result = np.matmul((H_X-Y).T, (H_X-Y))\n",
    "    result = (result)/(2*m)\n",
    "    return result"
   ]
  },
  {
   "cell_type": "code",
   "execution_count": 6,
   "id": "a1bd17eb",
   "metadata": {},
   "outputs": [],
   "source": [
    "def gradient_descent(X, Y, Th, learning_rate=0.1, epochs=10):\n",
    "    m = X.shape[0]\n",
    "    for i in range(epochs):\n",
    "        H_X = hypothesis(X, Th)\n",
    "        cost_ = (np.matmul((H_X-Y).T, X))*(1/m)\n",
    "#         print(\"Before\", Th)\n",
    "        Th = Th - cost_.T\n",
    "#         print(\"Inside:\", cost_)\n",
    "    return Th"
   ]
  },
  {
   "cell_type": "code",
   "execution_count": 7,
   "id": "29d7b985",
   "metadata": {
    "scrolled": true
   },
   "outputs": [
    {
     "data": {
      "image/png": "[encoded data removed]",
      "text/plain": [
       "<Figure size 432x288 with 1 Axes>"
      ]
     },
     "metadata": {
      "needs_background": "light"
     },
     "output_type": "display_data"
    },
    {
     "name": "stdout",
     "output_type": "stream",
     "text": [
      "Cost:  [[2.06650278e+09]]\n",
      "Parameters:  [[339119.45652174]\n",
      " [110248.92165868]\n",
      " [ -6226.22670553]]\n"
     ]
    }
   ],
   "source": [
    "X, Y = load_data('./house_price_data.txt')\n",
    "Y = np.reshape(Y, (46,1))\n",
    "X = np.hstack((np.ones((X.shape[0],1)), X))\n",
    "theta = np.zeros((X.shape[1], 1))\n",
    "learning_rate = 0.1\n",
    "num_epochs = 200\n",
    "theta = gradient_descent(X, Y, theta, learning_rate, num_epochs)\n",
    "J = cost_function(X, theta, Y)\n",
    "print(\"Cost: \", J)\n",
    "print(\"Parameters: \", theta)"
   ]
  },
  {
   "cell_type": "code",
   "execution_count": 8,
   "id": "a7b16ea8",
   "metadata": {},
   "outputs": [],
   "source": [
    "# Cost:  [[2.06669066e+09]]\n",
    "# Parameters:  [[339110.44903458]\n",
    "#  [109594.77707842]\n",
    "#  [ -5572.08655189]]"
   ]
  },
  {
   "cell_type": "code",
   "execution_count": 9,
   "id": "b4d261ed",
   "metadata": {},
   "outputs": [],
   "source": [
    "def test(theta, x):\n",
    "\tx[0] = (x[0] - mu[0])/std[0]\n",
    "\tx[1] = (x[1] - mu[1])/std[1]\n",
    "\ty = theta[0] + theta[1]*x[0] + theta[2]*x[1]\n",
    "\tprint(\"Price of house: \", y)"
   ]
  },
  {
   "cell_type": "code",
   "execution_count": 10,
   "id": "998bb443",
   "metadata": {},
   "outputs": [
    {
     "name": "stdout",
     "output_type": "stream",
     "text": [
      "Price of house:  [285258.00703053]\n"
     ]
    }
   ],
   "source": [
    "test(theta, [1600, 3]) #285427.44655119"
   ]
  }
 ],
 "metadata": {
  "kernelspec": {
   "display_name": "Python 3.10.4 64-bit",
   "language": "python",
   "name": "python3"
  },
  "language_info": {
   "codemirror_mode": {
    "name": "ipython",
    "version": 3
   },
   "file_extension": ".py",
   "mimetype": "text/x-python",
   "name": "python",
   "nbconvert_exporter": "python",
   "pygments_lexer": "ipython3",
   "version": "3.10.4"
  },
  "vscode": {
   "interpreter": {
    "hash": "369f2c481f4da34e4445cda3fffd2e751bd1c4d706f27375911949ba6bb62e1c"
   }
  }
 },
 "nbformat": 4,
 "nbformat_minor": 5
}
