{
 "cells": [
  {
   "cell_type": "code",
   "execution_count": 7,
   "metadata": {},
   "outputs": [],
   "source": [
    "#importing libraries\n",
    "import tensorflow as tf\n",
    "from tensorflow import keras \n",
    "from keras.models import Sequential\n",
    "from keras.layers import Convolution2D\n",
    "from keras.layers import MaxPooling2D\n",
    "from keras.layers import Flatten\n",
    "from keras.layers import Dense"
   ]
  },
  {
   "cell_type": "code",
   "execution_count": 8,
   "metadata": {},
   "outputs": [],
   "source": [
    "#initialising the convnet and defining layers\n",
    "model = Sequential()"
   ]
  },
  {
   "cell_type": "code",
   "execution_count": 9,
   "metadata": {},
   "outputs": [],
   "source": [
    "model.add(Convolution2D(32, (3, 3), input_shape=(64, 64, 3), activation='relu', padding='SAME')),\n",
    "model.add(MaxPooling2D(pool_size=(2,2))),\n",
    "model.add(Convolution2D(32, (3, 3), activation='relu', padding='SAME')),\n",
    "model.add(MaxPooling2D(pool_size=(2,2))),\n",
    "model.add(Convolution2D(64, (3, 3), activation='relu', padding='SAME')),\n",
    "model.add(MaxPooling2D(pool_size=(2,2))),\n",
    "model.add(Flatten()),\n",
    "model.add(Dense(units = 256, activation='relu')),\n",
    "model.add(Dense(units = 1, activation='sigmoid'))"
   ]
  },
  {
   "cell_type": "code",
   "execution_count": 10,
   "metadata": {},
   "outputs": [],
   "source": [
    "# Compiling the CNN\n",
    "model.compile(optimizer='adam', loss='binary_crossentropy', metrics=['accuracy'])"
   ]
  },
  {
   "cell_type": "code",
   "execution_count": 11,
   "metadata": {},
   "outputs": [],
   "source": [
    "from keras.preprocessing.image import ImageDataGenerator\n",
    "# Data Augmentation - Data augmentation is a set of techniques to artificially increase the amount \n",
    "# of data by generating new data points from existing data\n",
    "train_datagen = ImageDataGenerator(\n",
    "    rescale=1./255,     #feature scaling--->putting all values between 0 and 1\n",
    "    shear_range=0.2,    #Shear angle in the counter-clockwise direction in degrees\n",
    "    zoom_range=0.2,\n",
    "    horizontal_flip=True    #Radomly flip inputs horizontally\n",
    ")"
   ]
  },
  {
   "cell_type": "code",
   "execution_count": 12,
   "metadata": {},
   "outputs": [],
   "source": [
    "test_datagen = ImageDataGenerator(rescale=1./255)"
   ]
  },
  {
   "cell_type": "code",
   "execution_count": 13,
   "metadata": {},
   "outputs": [
    {
     "name": "stdout",
     "output_type": "stream",
     "text": [
      "Found 8000 images belonging to 2 classes.\n"
     ]
    }
   ],
   "source": [
    "train_set = train_datagen.flow_from_directory('C:/Users/User/MachineLearning/CNN/training_set', target_size=(64,64), batch_size=32, class_mode='binary')"
   ]
  },
  {
   "cell_type": "code",
   "execution_count": 14,
   "metadata": {},
   "outputs": [
    {
     "name": "stdout",
     "output_type": "stream",
     "text": [
      "Found 2000 images belonging to 2 classes.\n"
     ]
    }
   ],
   "source": [
    "test_set = test_datagen.flow_from_directory('C:/Users/User/MachineLearning/CNN/test_set', target_size=(64,64), batch_size=32, class_mode='binary')"
   ]
  },
  {
   "cell_type": "code",
   "execution_count": 15,
   "metadata": {},
   "outputs": [
    {
     "name": "stdout",
     "output_type": "stream",
     "text": [
      "Epoch 1/25\n",
      "250/250 [==============================] - 56s 220ms/step - loss: 0.6832 - accuracy: 0.5612 - val_loss: 0.6946 - val_accuracy: 0.5655\n",
      "Epoch 2/25\n",
      "250/250 [==============================] - 51s 205ms/step - loss: 0.6214 - accuracy: 0.6566 - val_loss: 0.5705 - val_accuracy: 0.7105\n",
      "Epoch 3/25\n",
      "250/250 [==============================] - 48s 192ms/step - loss: 0.5679 - accuracy: 0.7095 - val_loss: 0.5386 - val_accuracy: 0.7335\n",
      "Epoch 4/25\n",
      "250/250 [==============================] - 49s 198ms/step - loss: 0.5285 - accuracy: 0.7310 - val_loss: 0.5305 - val_accuracy: 0.7405\n",
      "Epoch 5/25\n",
      "250/250 [==============================] - 48s 193ms/step - loss: 0.5004 - accuracy: 0.7556 - val_loss: 0.4778 - val_accuracy: 0.7680\n",
      "Epoch 6/25\n",
      "250/250 [==============================] - 48s 193ms/step - loss: 0.4765 - accuracy: 0.7721 - val_loss: 0.4577 - val_accuracy: 0.7830\n",
      "Epoch 7/25\n",
      "250/250 [==============================] - 49s 194ms/step - loss: 0.4599 - accuracy: 0.7822 - val_loss: 0.4551 - val_accuracy: 0.7825\n",
      "Epoch 8/25\n",
      "250/250 [==============================] - 48s 193ms/step - loss: 0.4440 - accuracy: 0.7911 - val_loss: 0.4123 - val_accuracy: 0.8100\n",
      "Epoch 9/25\n",
      "250/250 [==============================] - 50s 200ms/step - loss: 0.4237 - accuracy: 0.8051 - val_loss: 0.4176 - val_accuracy: 0.8065\n",
      "Epoch 10/25\n",
      "250/250 [==============================] - 49s 194ms/step - loss: 0.4028 - accuracy: 0.8155 - val_loss: 0.4117 - val_accuracy: 0.8060\n",
      "Epoch 11/25\n",
      "250/250 [==============================] - 49s 197ms/step - loss: 0.4004 - accuracy: 0.8155 - val_loss: 0.3985 - val_accuracy: 0.8210\n",
      "Epoch 12/25\n",
      "250/250 [==============================] - 48s 191ms/step - loss: 0.3805 - accuracy: 0.8246 - val_loss: 0.4285 - val_accuracy: 0.8020\n",
      "Epoch 13/25\n",
      "250/250 [==============================] - 48s 192ms/step - loss: 0.3717 - accuracy: 0.8328 - val_loss: 0.3869 - val_accuracy: 0.8300\n",
      "Epoch 14/25\n",
      "250/250 [==============================] - 49s 195ms/step - loss: 0.3574 - accuracy: 0.8439 - val_loss: 0.3766 - val_accuracy: 0.8410\n",
      "Epoch 15/25\n",
      "250/250 [==============================] - 48s 192ms/step - loss: 0.3414 - accuracy: 0.8501 - val_loss: 0.3926 - val_accuracy: 0.8255\n",
      "Epoch 16/25\n",
      "250/250 [==============================] - 48s 191ms/step - loss: 0.3342 - accuracy: 0.8474 - val_loss: 0.3935 - val_accuracy: 0.8285\n",
      "Epoch 17/25\n",
      "250/250 [==============================] - 48s 192ms/step - loss: 0.3135 - accuracy: 0.8622 - val_loss: 0.4326 - val_accuracy: 0.8200\n",
      "Epoch 18/25\n",
      "250/250 [==============================] - 49s 194ms/step - loss: 0.3098 - accuracy: 0.8605 - val_loss: 0.3959 - val_accuracy: 0.8290\n",
      "Epoch 19/25\n",
      "250/250 [==============================] - 61s 245ms/step - loss: 0.2988 - accuracy: 0.8704 - val_loss: 0.3704 - val_accuracy: 0.8400\n",
      "Epoch 20/25\n",
      "250/250 [==============================] - 58s 231ms/step - loss: 0.2778 - accuracy: 0.8811 - val_loss: 0.4000 - val_accuracy: 0.8265\n",
      "Epoch 21/25\n",
      "250/250 [==============================] - 58s 231ms/step - loss: 0.2791 - accuracy: 0.8802 - val_loss: 0.5483 - val_accuracy: 0.7645\n",
      "Epoch 22/25\n",
      "250/250 [==============================] - 56s 226ms/step - loss: 0.2574 - accuracy: 0.8856 - val_loss: 0.4020 - val_accuracy: 0.8385\n",
      "Epoch 23/25\n",
      "250/250 [==============================] - 56s 226ms/step - loss: 0.2557 - accuracy: 0.8890 - val_loss: 0.3845 - val_accuracy: 0.8395\n",
      "Epoch 24/25\n",
      "250/250 [==============================] - 56s 225ms/step - loss: 0.2409 - accuracy: 0.8935 - val_loss: 0.4085 - val_accuracy: 0.8280\n",
      "Epoch 25/25\n",
      "250/250 [==============================] - 58s 232ms/step - loss: 0.2287 - accuracy: 0.9043 - val_loss: 0.3940 - val_accuracy: 0.8365\n"
     ]
    },
    {
     "data": {
      "text/plain": [
       "<keras.callbacks.History at 0x1d4e5d49c60>"
      ]
     },
     "execution_count": 15,
     "metadata": {},
     "output_type": "execute_result"
    }
   ],
   "source": [
    "model.fit(train_set, steps_per_epoch=8000/32, epochs=25, validation_data=test_set, validation_steps=2000/32)"
   ]
  },
  {
   "cell_type": "code",
   "execution_count": 23,
   "metadata": {},
   "outputs": [],
   "source": [
    "import numpy as np\n",
    "from keras.utils import load_img, img_to_array"
   ]
  },
  {
   "cell_type": "code",
   "execution_count": 24,
   "metadata": {},
   "outputs": [],
   "source": [
    "test_image = load_img('single_prediction/cat_or_dog_2.jpg', target_size=(64,64))"
   ]
  },
  {
   "cell_type": "code",
   "execution_count": 25,
   "metadata": {},
   "outputs": [],
   "source": [
    "test_image = img_to_array(test_image)"
   ]
  },
  {
   "cell_type": "code",
   "execution_count": 26,
   "metadata": {},
   "outputs": [],
   "source": [
    "test_image = np.expand_dims(test_image, axis=0)"
   ]
  },
  {
   "cell_type": "code",
   "execution_count": 27,
   "metadata": {},
   "outputs": [
    {
     "name": "stdout",
     "output_type": "stream",
     "text": [
      "1/1 [==============================] - 0s 36ms/step\n"
     ]
    }
   ],
   "source": [
    "result = model.predict(test_image)"
   ]
  },
  {
   "cell_type": "code",
   "execution_count": 28,
   "metadata": {},
   "outputs": [
    {
     "data": {
      "text/plain": [
       "0.0"
      ]
     },
     "execution_count": 28,
     "metadata": {},
     "output_type": "execute_result"
    }
   ],
   "source": [
    "result[0][0]"
   ]
  },
  {
   "cell_type": "code",
   "execution_count": 29,
   "metadata": {},
   "outputs": [
    {
     "data": {
      "text/plain": [
       "{'cats': 0, 'dogs': 1}"
      ]
     },
     "execution_count": 29,
     "metadata": {},
     "output_type": "execute_result"
    }
   ],
   "source": [
    "train_set.class_indices"
   ]
  },
  {
   "cell_type": "code",
   "execution_count": 31,
   "metadata": {},
   "outputs": [
    {
     "name": "stdout",
     "output_type": "stream",
     "text": [
      "Model: \"sequential_1\"\n",
      "_________________________________________________________________\n",
      " Layer (type)                Output Shape              Param #   \n",
      "=================================================================\n",
      " conv2d_6 (Conv2D)           (None, 64, 64, 32)        896       \n",
      "                                                                 \n",
      " max_pooling2d_6 (MaxPooling  (None, 32, 32, 32)       0         \n",
      " 2D)                                                             \n",
      "                                                                 \n",
      " conv2d_7 (Conv2D)           (None, 32, 32, 32)        9248      \n",
      "                                                                 \n",
      " max_pooling2d_7 (MaxPooling  (None, 16, 16, 32)       0         \n",
      " 2D)                                                             \n",
      "                                                                 \n",
      " conv2d_8 (Conv2D)           (None, 16, 16, 64)        18496     \n",
      "                                                                 \n",
      " max_pooling2d_8 (MaxPooling  (None, 8, 8, 64)         0         \n",
      " 2D)                                                             \n",
      "                                                                 \n",
      " flatten (Flatten)           (None, 4096)              0         \n",
      "                                                                 \n",
      " dense (Dense)               (None, 256)               1048832   \n",
      "                                                                 \n",
      " dense_1 (Dense)             (None, 1)                 257       \n",
      "                                                                 \n",
      "=================================================================\n",
      "Total params: 1,077,729\n",
      "Trainable params: 1,077,729\n",
      "Non-trainable params: 0\n",
      "_________________________________________________________________\n"
     ]
    }
   ],
   "source": [
    "model.summary()"
   ]
  },
  {
   "cell_type": "code",
   "execution_count": null,
   "metadata": {},
   "outputs": [],
   "source": []
  }
 ],
 "metadata": {
  "kernelspec": {
   "display_name": "Python 3.10.4 64-bit",
   "language": "python",
   "name": "python3"
  },
  "language_info": {
   "codemirror_mode": {
    "name": "ipython",
    "version": 3
   },
   "file_extension": ".py",
   "mimetype": "text/x-python",
   "name": "python",
   "nbconvert_exporter": "python",
   "pygments_lexer": "ipython3",
   "version": "3.10.4 (tags/v3.10.4:9d38120, Mar 23 2022, 23:13:41) [MSC v.1929 64 bit (AMD64)]"
  },
  "orig_nbformat": 4,
  "vscode": {
   "interpreter": {
    "hash": "369f2c481f4da34e4445cda3fffd2e751bd1c4d706f27375911949ba6bb62e1c"
   }
  }
 },
 "nbformat": 4,
 "nbformat_minor": 2
}
